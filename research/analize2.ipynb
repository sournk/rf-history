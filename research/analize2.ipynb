{
 "cells": [
  {
   "cell_type": "code",
   "execution_count": null,
   "metadata": {},
   "outputs": [],
   "source": [
    "import analizer as an\n",
    "\n",
    "# Data import\n",
    "df_origin = pd.read_excel('report.xls')\n",
    "\n",
    "df_orders = an.extend_with_grid_details(df_origin)\n",
    "df_grids = an.get_grids(df_orders)\n",
    "df_sum an.get_summary(df_orders=df_orders,\n",
    "                      df_grids=df_grids)\n"
   ]
  }
 ],
 "metadata": {
  "language_info": {
   "name": "python"
  },
  "orig_nbformat": 4
 },
 "nbformat": 4,
 "nbformat_minor": 2
}
